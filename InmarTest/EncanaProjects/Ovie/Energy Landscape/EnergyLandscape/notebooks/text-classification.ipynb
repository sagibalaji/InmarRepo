{
 "cells": [
  {
   "cell_type": "markdown",
   "metadata": {},
   "source": [
    "# ELM Proof of Concept #4 - Text Classification\n",
    "\n",
    "* November 12th, 2018\n",
    "* Ryan Kazmerik, Strategic EIM\n",
    "\n",
    "## Hypothesis\n",
    "We can teach a text classifier to identify articles that mention the increase or decrease in the price of oil - and further we can use the classification results of all articles to assign a price factor to our news article topics.\n",
    "\n",
    "\n",
    "### Research\n",
    "**1. Supervised Learning**\n",
    "* Human labeled examples used to train the model\n",
    "* Hand engineered features (ex. sentence length)\n",
    "* White box modelling\n",
    "\n",
    "**2. Unsupervised Learning**\n",
    "* Very large datasets\n",
    "* Computer engineered features\n",
    "* Black box modelling\n",
    "\n",
    "**3. Semi-supervised Learning**\n",
    "* Computer starts with a generic language model\n",
    "* Human annotations used to guide the training process\n",
    "* Gray box modelling"
   ]
  },
  {
   "cell_type": "markdown",
   "metadata": {},
   "source": [
    "## Experiment\n",
    "\n",
    "**To start we need to find a dataset that will help us train our classifier - after a couple hours of exploring our articles we observed the following patterns:**\n",
    "\n",
    "1. Reuters most-often uses a standardized pattern when reporting news about oil price movement:\n",
    "\n",
    "> *\"Oil falls 3 percent as equity markets drop, inventories climb.\"*\n",
    "\n",
    "> *\"Oil prices down 20 percent in a month as fundamentals weaken.\"*\n",
    "\n",
    "> *\"Oil higher as U.S. Iran sanctions raise supply concerns.\"*\n",
    "\n",
    "> *\"Oil prices fall more than 1 percent on rising supply, trade war\".*\n",
    "\n",
    "> *\"Oil prices rise as Gulf platforms shut ahead of hurricane\".*\n",
    "\n",
    "**Let's exploit this observed pattern in the data to train our classifier.**\n",
    "\n",
    "First we need to create a dataset that contains these price movement articles:"
   ]
  },
  {
   "cell_type": "code",
   "execution_count": 1,
   "metadata": {},
   "outputs": [
    {
     "name": "stdout",
     "output_type": "stream",
     "text": [
      "Oil drops 2.5 percent as equity markets fall, inventories climb\n",
      "Oil drops 2.5 percent as equity markets fall, inventories climb\n",
      "Oil extends losses as markets fall, inventories climb\n",
      "Oil falls 2.5 percent as equity markets drop, inventories climb\n",
      "Oil falls 3 percent as equity markets drop, inventories climb\n",
      "Oil prices hold ground, but set for 4 percent weekly fall\n",
      "Oil prices rise, but still set for weekly fall amid equities rout\n",
      "Oil prices climb as U.S. energy firms cut rigs, Iran sanctions loom\n",
      "RPT-UPDATE 4-Oil jumps 2 pct as market tightens, more gains seen\n",
      "U.S. gasoline prices at seasonal four-year high ahead of midterm elections\n",
      "Oil prices fall amid supplied market, Iran sanction exemptions - Reuters\n",
      "Oil prices down 20 percent in a month as fundamentals weaken\n",
      "Brent crude at highest since October 2014, Iran sanctions drive buying\n",
      "Brent crude oil dips on rising OPEC output; looming sanctions on Iran prevent bigger fall\n",
      "UPDATE 6-Brent crude touches 2014 high ahead of Iran sanctions\n",
      "Brent hits new four-year high on Iran supply worries\n",
      "UPDATE 4-Brent oil hits highest since 2014 before U.S. sanctions on Iran bite\n",
      "Brent oil prices dips on rising supply, global market woes\n",
      "Brent oil rises back above $80 as Iran sanctions loom\n",
      "Brent oil trades near four-year high, but U.S. crude retreats\n",
      "Brent oil trades steady near four-year high while U.S. crude retreats\n",
      "Oil at 2014 highs on Iran Sanctions, NAFTA deal\n",
      "UPDATE 6-Oil up 2 pct after OPEC rebuffs Trump, fails to raise output\n",
      "Oil dips as Saudi Arabia pledges to play 'responsible role' in market\n",
      "Oil dips as Sino-U.S. trade tensions deepen, new tariffs due\n",
      "Oil dips as U.S. grants Iran sanctions waivers; Tehran defiant\n",
      "Oil dips but pares losses with Wall Street bounce\n",
      "UPDATE 5-Brent oil stabilises near $72 as economic concerns weigh\n",
      "Oil drops 1 pct as U.S. considers granting some waivers on Iran crude sanctions\n",
      "UPDATE 8-Oil drops 2.5 pct as equity markets fall, inventories climb\n",
      "UPDATE 2-Oil drops as US considers granting some waivers on Iran crude sanctions\n",
      "Oil drops as U.S. considers granting some waivers on Iran crude sanctions\n",
      "UPDATE 5-Oil drops below $83 on expectations Iran will maintain some exports\n",
      "UPDATE 4-Oil drops to around $83 on expectations Iran will maintain some exports\n",
      "Oil eases, but Iran sanctions keep Brent above $80 a barrel\n",
      "Oil rises as China, US set for trade talks, but markets weary of slowing demand - Reuters\n",
      "Oil edges up as looming Iran sanctions expected to tighten market\n",
      "UPDATE 3-Oil edges up on Iran sanctions, but U.S. supply and strong dollar weigh\n",
      "UPDATE 2-Oil edges up on looming Iran sanctions, but U.S.-China trade war caps gains\n",
      "UPDATE 4-Oil steady as demand outlook counters boost from Iran sanctions\n",
      "REFILE-Oil extends declines as Saudi Arabia commits to meet demand\n",
      "UPDATE 4-Oil extends losses as markets fall, inventories climb\n",
      "Oil extends losses as other markets fall, inventories rise\n",
      "UPDATE 2-Oil extends losses as other markets fall, stockpiles climb\n",
      "Oil extends rally, shrugging off U.S. stockpile build\n",
      "UPDATE 9-Oil falls 2.5 pct as equity markets drop, inventories climb\n",
      "UPDATE 7-Oil falls as Saudi Arabia reassures market on supply\n",
      "UPDATE 4-Oil falls on oversupply worries despite Iran sanctions\n",
      "Oil rises as U.S. sanctions on Iran squeeze supply\n",
      "Oil firm on Iran sanctions, but rising U.S. supply and strong dollar weigh\n",
      "Oil firm on Iran sanctions, but rising US supply and strong dollar drag\n",
      "Oil firm on Iran sanctions, but rising U.S. supply and strong dollar weigh\n",
      "Oil gains 1 percent ahead of shortfall in Iran supply\n",
      "UPDATE 9-Oil gains, shrugging off bearish U.S. crude build\n",
      "UPDATE 9-Oil heads for third weekly decline, but Iran sanctions limit losses\n",
      "Oil higher as U.S. Iran sanctions raise supply concerns\n",
      "Oil higher as U.S. sanctions on Iran raise supply concerns\n",
      "UPDATE 7-Oil holds near $80 as Saudi Arabia plans output increase\n",
      "Oil holds steady as rising U.S. rig count offsets Iran sanctions worries\n",
      "Oil holds steady as rising U.S. rig count offsets Iran sanctions worries\n",
      "UPDATE 5-Oil hovers below four-year high, Iran sanctions still offer support\n",
      "UPDATE 4-Oil jumps 2 pct as market tightens, more gains seen\n",
      "Oil little changed despite Saudi pledge to boost output\n",
      "Oil prices rise on Iran sanctions; trade row mutes activity\n",
      "Oil mixed as China tariff talk scotches early rally\n",
      "Oil mixed as U.S. imposes sanctions on Iran, Tehran defiant\n",
      "Oil near flat as market weighs U.S.-China trade tensions, Iran sanctions\n",
      "UPDATE 9-Oil prices at four-year high after OPEC rebuffs Trump\n",
      "Oil prices claw back on supply concerns, but demand worries drag\n",
      "Oil prices claw back on supply concerns though but demand worries drag\n",
      "UPDATE 4-Oil steady as U.S. crude inventories fall, products gain\n",
      "Oil prices climb as U.S. energy firms cut rigs, Iran sanctions loom\n",
      "Oil slips as trade war worries outweigh Iran sanctions\n",
      "REFILE-Oil prices dip on rising U.S. supply, but Iran sanctions still loom\n",
      "Oil prices down more than $1 on rising supply, trade war\n",
      "UPDATE 12-Oil prices down more than 1 pct on rising supply, trade war\n",
      "UPDATE 1-Oil prices drop as focus shifts to oversupply\n",
      "UPDATE 2-Oil prices drop as oversupply looms amid global market woes\n",
      "Oil prices drop as storm threat eases on U.S. Gulf coast\n",
      "Oil prices ease as trade row clouds demand outlook\n",
      "UPDATE 2-Oil edges up on Saudi output cut and Iran sanctions, but slowing economic growth drags\n",
      "Oil prices edge up on decline in U.S. fuel inventories, looming Iran sanctions\n",
      "Oil prices fall 2 percent on rising supply and trade war\n",
      "Oil heads for weekly loss on concerns over trade row\n",
      "Oil prices fall as focus switches to oversupply\n",
      "UPDATE 3-Oil prices fall as oversupply looms amid global market woes\n",
      "UPDATE 4-Oil prices fall as Saudi Arabia pledges to play 'responsible role' in market\n",
      "Oil prices fall as stock markets plunge\n",
      "Oil prices fall as U.S. may grant some waivers on Iran crude sanctions\n",
      "Oil prices fall more than 1 percent on rising supply, trade war\n",
      "Oil prices fall on emerging market woes, looming tariff deadline\n",
      "Oil prices fall on rising supply, trade tensions\n",
      "Oil prices fall on signs of rising supply, economy worries\n",
      "Oil prices gain as market tests $79 Brent\n",
      "Oil prices inch up as supply concerns outweigh U.S. output assurances\n",
      "Oil prices pulled down by surging output, but Iran sanctions loom - Reuters\n",
      "Oil prices recover after stock markets plunge\n",
      "Oil prices rise 1 percent ahead of U.S. sanctions against Iran\n",
      "Oil prices rise 1 percent ahead of U.S. sanctions against Iran\n",
      "Oil prices rise ahead of U.S. sanctions against Iran\n",
      "Oil prices rise amid Saudi tensions, but demand outlook drags\n",
      "Oil prices rise on lower U.S. crude inventories, looming Iran sanctions\n",
      "UPDATE 6-Oil prices slip on rising supply, trade tensions\n",
      "Oil prices steady after pull-back, up on the week\n",
      "Oil prices steady after stock markets plunge\n",
      "UPDATE 11-Oil prices surge 2 pct to four-year high after OPEC rebuffs Trump\n",
      "UPDATE 12-Oil prices surge as Saudis, Russia won't open spigots\n",
      "Oil rebounds to $81, pares gain as IEA sees adequate supply\n",
      "Oil recover with stock markets, demand concerns weigh\n",
      "UPDATE 8-Oil retreats further from 4-year high as Saudi pumps more\n",
      "Oil rises 1 percent ahead of shortfall in Iran supply\n",
      "UPDATE 6-Oil rises above $80, Saudi Arabia plans output increase\n",
      "UPDATE 10-Oil rises ahead of Iran sanctions but falls for a third week\n",
      "Oil rises as investors fret over Iranian supply gaps\n",
      "Oil rises on expectations of tightening market\n",
      "UPDATE 4-Oil rises on Iran sanctions, though U.S.-China trade war clouds outlook\n",
      "Oil rises on looming Iran sanctions, but U.S.-China trade war caps gains\n",
      "Oil rises on looming Iran sanctions, but U.S.-China trade war caps gains\n",
      "UPDATE 5-Oil rises on signs OPEC not prepared to boost output\n",
      "Oil edges up as U.S. crude stocks fall, Iran sanctions weigh\n",
      "Oil rises toward four-year high as Iran sanctions loom\n",
      "UPDATE 5-Oil seesaws on reported Iran sanction waivers, hopes US-China trade spat can be resolved\n",
      "Oil settles higher as stock markets gain, Saudi signals intervention\n",
      "Oil slips as U.S. sanctions on Iran begin, Tehran defiant\n",
      "Oil slips below $80 after Saudi pledges rapid output rise\n",
      "Oil slips below $80 on rising U.S. stockpiles\n",
      "UPDATE 6-Oil slips below $85 as Saudi raises output towards record\n",
      "UPDATE 7-Oil slips but bounces off low on hopes for China stimulus\n",
      "UPDATE 7-Oil steadies as Saudi tensions balance demand outlook\n",
      "Oil steadies near 4-year high as Saudi pumps more and Iran sanctions loom\n",
      "Oil steady as Iran sanction fears face U.S.-China trade tensions\n",
      "Oil steady as Saudi tensions balance demand outlook\n",
      "UPDATE 10-Oil steadies, settling up slightly after volatile session\n",
      "Oil under pressure from rising output, but Iran sanctions loom\n",
      "UPDATE 8-Oil up but posts weekly loss on stock build, trade tensions\n",
      "Oil up but set for weekly loss on stock build, trade row\n",
      "U.S. oil prices rise as Gulf platforms shut ahead of hurricane\n",
      "UPDATE 11-U.S. oil prices up after sharp drop in fuel stocks\n"
     ]
    }
   ],
   "source": [
    "import json_lines\n",
    "\n",
    "with open('../models/textcat/el_docs_price.jsonl', 'rb') as f:  \n",
    "   for item in json_lines.reader(f):\n",
    "       print(item['text'])"
   ]
  },
  {
   "cell_type": "markdown",
   "metadata": {},
   "source": [
    "**We will be using a CNN (convolutional neural network) to learn the patterns in our headlines, but to start we can provide it with some seed examples of words we are particularly interested in.**\n",
    "\n",
    "Here are the commonly observed words for headlines that mention price increase (PRICE_UP) and decrease (PRICE_DOWN):"
   ]
  },
  {
   "cell_type": "code",
   "execution_count": 10,
   "metadata": {},
   "outputs": [
    {
     "name": "stdout",
     "output_type": "stream",
     "text": [
      "{'label': 'PRICE_UP', 'pattern': [{'lemma': 'rise'}]}\n",
      "{'label': 'PRICE_UP', 'pattern': [{'lemma': 'gain'}]}\n",
      "{'label': 'PRICE_UP', 'pattern': [{'lemma': 'up'}]}\n",
      "{'label': 'PRICE_UP', 'pattern': [{'lemma': 'jump'}]}\n",
      "{'label': 'PRICE_UP', 'pattern': [{'lemma': 'surge'}]}\n",
      "{'label': 'PRICE_UP', 'pattern': [{'lemma': 'edge'}]}\n",
      "{'label': 'PRICE_UP', 'pattern': [{'lemma': 'claw back'}]}\n",
      "{'label': 'PRICE_UP', 'pattern': [{'lemma': 'inch up'}]}\n",
      "{'label': 'PRICE_DOWN', 'pattern': [{'lemma': 'slip'}]}\n",
      "{'label': 'PRICE_DOWN', 'pattern': [{'lemma': 'retreat'}]}\n",
      "{'label': 'PRICE_DOWN', 'pattern': [{'lemma': 'drop'}]}\n",
      "{'label': 'PRICE_DOWN', 'pattern': [{'lemma': 'fall'}]}\n",
      "{'label': 'PRICE_DOWN', 'pattern': [{'lemma': 'decline'}]}\n",
      "{'label': 'PRICE_DOWN', 'pattern': [{'lemma': 'dip'}]}\n",
      "{'label': 'PRICE_DOWN', 'pattern': [{'lemma': 'down'}]}\n",
      "{'label': 'PRICE_DOWN', 'pattern': [{'lemma': 'losses'}]}\n"
     ]
    }
   ],
   "source": [
    "with open('../models/textcat/patterns.jsonl', 'rb') as f:  \n",
    "   for item in json_lines.reader(f):\n",
    "       print(item)"
   ]
  },
  {
   "cell_type": "markdown",
   "metadata": {},
   "source": [
    "**Now we can start training our model using Prodigy. This semi-supervised framework will present us with headlines it believes are either classified as PRICE_UP or PRICE_DOWN and ask us to either accept or reject the prediction. We call this an:  *annotation***\n",
    "\n",
    "Let's start the Prodigy web server and observe the annotation process:"
   ]
  },
  {
   "cell_type": "markdown",
   "metadata": {},
   "source": [
    "> <pre>pgy textcat.teach el_articles_price en_core_web_md models/textcat/el_docs_price.jsonl --label PRICE_UP,PRICE_DOWN --patterns models/textcat/patterns.jsonl</pre>"
   ]
  },
  {
   "cell_type": "markdown",
   "metadata": {},
   "source": [
    "Below is a sample of the annotation process, which runs at http://localhost:8080\n",
    "\n",
    "![alt text](../notebooks/img/prodigy-sample.png \"Logo Title Text 1\")\n"
   ]
  },
  {
   "cell_type": "markdown",
   "metadata": {},
   "source": [
    "<br/><br/>\n",
    "**Once we have provided enough annotations, we can batch train our model and examine the precision, accuracy and f-score:**"
   ]
  },
  {
   "cell_type": "markdown",
   "metadata": {},
   "source": [
    "><pre>pgy textcat.batch-train el_articles_price --output models/textcat --eval-split 0.2</pre>"
   ]
  },
  {
   "cell_type": "markdown",
   "metadata": {},
   "source": [
    "## Results\n",
    "<pre>\n",
    "Loaded blank model\n",
    "Using 20% of examples (24) for evaluation\n",
    "Using 100% of remaining examples (96) for training\n",
    "Dropout: 0.2  Batch size: 10  Iterations: 10\n",
    "\n",
    "RUN        LOSS       F-SCORE    ACCURACY\n",
    "01         11.339     0.640      0.500\n",
    "02         7.651      0.286      0.444\n",
    "03         7.107      0.556      0.556\n",
    "04         5.799      0.556      0.556\n",
    "05         6.299      0.375      0.444\n",
    "06         5.041      0.500      0.556\n",
    "07         5.649      0.737      0.722\n",
    "08         6.255      0.737      0.722\n",
    "09         5.041      0.737      0.722\n",
    "10         5.596      0.737      0.722\n",
    "\n",
    "MODEL      USER       COUNT\n",
    "accept     accept     7\n",
    "accept     reject     1\n",
    "reject     reject     6\n",
    "reject     accept     4\n",
    "\n",
    "Correct    13\n",
    "Incorrect  5\n",
    "\n",
    "Baseline   0.61\n",
    "Precision  0.87\n",
    "Recall     0.64\n",
    "F-score    0.74\n",
    "Accuracy   0.72\n",
    "</pre>"
   ]
  },
  {
   "cell_type": "markdown",
   "metadata": {},
   "source": [
    "## Observations"
   ]
  },
  {
   "cell_type": "markdown",
   "metadata": {},
   "source": [
    "### 1. 72% accuracy for 138 headlines + 120 annotations - about 10 minutes to train.\n",
    "\n",
    "This performance is somewhat suprising given the limited size of the dataset, and the small amount of annotations. Increasing the number of headlines used for initial training and providing more annotations could improve the model further.\n",
    "\n",
    "Using the command above, we can generate a training curve to get an idea of how the model is performing with different amounts of data. This outputs the accuracy score, as well as the increase in accuracy and is an indicator if more data could improve the accuracy.\n",
    "\n",
    "> <pre>pgy textcat.train-curve el_articles_price --n-samples 4 --eval-split 0.2</pre>\n",
    "\n",
    "<pre>\n",
    "Starting with blank model\n",
    "Dropout: 0.2  Batch size: 10  Iterations: 5  Samples: 4\n",
    "\n",
    "%          ACCURACY\n",
    "25%        0.50       +0.50\n",
    "50%        0.50       +0.00\n",
    "75%        0.61       +0.11\n",
    "100%       0.67       +0.06</pre>\n",
    "\n",
    "### 2. Low margin between PRICE_UP and PRICE_DOWN classes.\n",
    "\n",
    "There is a very small margin between the two classes. Which does make a certain amount of sense as the headlines have similar features - but is not ideal as it makes the classifier more susceptible to mis-classify."
   ]
  },
  {
   "cell_type": "code",
   "execution_count": 1,
   "metadata": {},
   "outputs": [
    {
     "name": "stdout",
     "output_type": "stream",
     "text": [
      "\n",
      "Oil gains by 2 percent after two Mexico platforms were evacuated\n",
      "{'PRICE_DOWN': 0.12061911821365356, 'PRICE_UP': 0.16919022798538208}\n",
      "\n",
      "Oil falls 3% as Sino-U.S. trade tensions deepen, new tariffs due\n",
      "{'PRICE_DOWN': 0.5449771285057068, 'PRICE_UP': 0.5133009552955627}\n"
     ]
    }
   ],
   "source": [
    "import spacy\n",
    "\n",
    "nlp = spacy.load('../models/textcat')\n",
    "print()\n",
    "\n",
    "doc = nlp('Oil gains by 2 percent after two Mexico platforms were evacuated')\n",
    "print(doc) \n",
    "print(doc.cats, end=\"\\n\\n\") \n",
    "\n",
    "doc = nlp('Oil falls 3% as Sino-U.S. trade tensions deepen, new tariffs due')\n",
    "print(doc)\n",
    "print(doc.cats)"
   ]
  },
  {
   "cell_type": "markdown",
   "metadata": {},
   "source": [
    "### 3. Evaluation is based on training set - not best practice.\n",
    "\n",
    "The same headlines that were used to train the dataset were also used to evaluate it. \n",
    "\n",
    "This is not a best practice because the potential to over-fit the model is high. Over-fitting is when the model has learned the specific dataset well, but will not perform well on new headlines it has not seen yet. That is, it learns the data, not the patterns."
   ]
  },
  {
   "cell_type": "markdown",
   "metadata": {},
   "source": [
    "## Conclusion\n",
    "\n",
    "* Semi-supervised learning could provide a viable text classifier, but we would need a bigger dataset to further improve and evaluate the model. A target of ~1000 training articles and ~500 annotations would be a reasonable target that is supported by the Prodigy documentation.\n",
    "\n",
    "<br/>\n",
    "\n",
    "* In order to apply this method to our entire dataset of articles, we would need to design a generalization (because every article would not be classified)\n",
    "\n",
    "> ex. classify 1000 articles and create a composite score for each topic. Then generalize that each article within that topic receives the same classification.\n",
    "\n",
    "<br/>\n",
    "\n",
    "* We could use this approach to build a similar classifier for supply increase / decrease.\n",
    "\n",
    "<br/>\n",
    "\n",
    "* This approach is only effective at a macro level, as there needs to be a relatively high number of articles about a topic to produce a reliable aggregate classification score."
   ]
  },
  {
   "cell_type": "markdown",
   "metadata": {},
   "source": [
    "## Further Improvements\n",
    "1. We should increase the historical size of the dataset to provide more than 138 articles for training and evaluation.\n",
    "2. We could expand the list of keywords in the patterns list for each label.\n",
    "3. We could use NER to extract any mentioned numerics (ex. percentages) to assign a magnitude.\n",
    "4. We could experiment with a different approach to semi-supervised learning:\n",
    "\n",
    "> ex. Build a classifier to identify articles that mention price movement (would need to use different pattern keywords) and then process those articles with NER to extract numerics and a pattern matcher to assign price increase or decrease.\n",
    "\n",
    "5. We could experiment with other approaches to building a classifier (ex. historical performance)"
   ]
  }
 ],
 "metadata": {
  "kernelspec": {
   "display_name": "Python 3",
   "language": "python",
   "name": "python3"
  },
  "language_info": {
   "codemirror_mode": {
    "name": "ipython",
    "version": 3
   },
   "file_extension": ".py",
   "mimetype": "text/x-python",
   "name": "python",
   "nbconvert_exporter": "python",
   "pygments_lexer": "ipython3",
   "version": "3.6.6"
  }
 },
 "nbformat": 4,
 "nbformat_minor": 2
}
