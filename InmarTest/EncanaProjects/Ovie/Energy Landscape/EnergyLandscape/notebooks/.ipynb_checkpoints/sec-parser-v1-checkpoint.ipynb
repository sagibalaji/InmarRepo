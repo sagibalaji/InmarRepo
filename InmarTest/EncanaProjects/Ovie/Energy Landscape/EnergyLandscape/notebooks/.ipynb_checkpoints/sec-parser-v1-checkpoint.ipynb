{
 "cells": [
  {
   "cell_type": "code",
   "execution_count": 135,
   "metadata": {},
   "outputs": [],
   "source": [
    "from bs4 import BeautifulSoup\n",
    "from IPython.core.display import display, HTML\n",
    "import re\n",
    "import sys\n",
    "\n",
    "# increase the recursion limit for these large documents\n",
    "sys.setrecursionlimit(10000)"
   ]
  },
  {
   "cell_type": "code",
   "execution_count": 136,
   "metadata": {},
   "outputs": [],
   "source": [
    "EOG_10K = './data/0000821189-20-000010.txt' #https://www.sec.gov/ix?doc=/Archives/edgar/data/821189/000082118920000010/a2019123110-k.htm\n",
    "MRO_10K = './data/0000101778-20-000023.txt' #https://www.sec.gov/ix?doc=/Archives/edgar/data/101778/000010177820000023/mro-20191231x10k2019.htm\n",
    "XOM_10K = './data/0000034088-20-000016.txt' #https://www.sec.gov/ix?doc=/Archives/edgar/data/34088/000003408820000016/xom10k2019.htm\n",
    "\n",
    "with open(XOM_10K,'rb') as f:\n",
    "\n",
    "    soup = BeautifulSoup(f.read(), 'lxml')"
   ]
  },
  {
   "cell_type": "code",
   "execution_count": 92,
   "metadata": {},
   "outputs": [
    {
     "data": {
      "text/plain": [
       "<sec-header>0000034088-20-000016.hdr.sgml : 20200226\n",
       "<acceptance-datetime>20200226161519\n",
       "ACCESSION NUMBER:\t\t0000034088-20-000016\n",
       "CONFORMED SUBMISSION TYPE:\t10-K\n",
       "PUBLIC DOCUMENT COUNT:\t\t138\n",
       "CONFORMED PERIOD OF REPORT:\t20191231\n",
       "FILED AS OF DATE:\t\t20200226\n",
       "DATE AS OF CHANGE:\t\t20200226\n",
       "\n",
       "FILER:\n",
       "\n",
       "\tCOMPANY DATA:\t\n",
       "\t\tCOMPANY CONFORMED NAME:\t\t\tEXXON MOBIL CORP\n",
       "\t\tCENTRAL INDEX KEY:\t\t\t0000034088\n",
       "\t\tSTANDARD INDUSTRIAL CLASSIFICATION:\tPETROLEUM REFINING [2911]\n",
       "\t\tIRS NUMBER:\t\t\t\t135409005\n",
       "\t\tSTATE OF INCORPORATION:\t\t\tNJ\n",
       "\t\tFISCAL YEAR END:\t\t\t1231\n",
       "\n",
       "\tFILING VALUES:\n",
       "\t\tFORM TYPE:\t\t10-K\n",
       "\t\tSEC ACT:\t\t1934 Act\n",
       "\t\tSEC FILE NUMBER:\t001-02256\n",
       "\t\tFILM NUMBER:\t\t20655849\n",
       "\n",
       "\tBUSINESS ADDRESS:\t\n",
       "\t\tSTREET 1:\t\t5959 LAS COLINAS BLVD\n",
       "\t\tCITY:\t\t\tIRVING\n",
       "\t\tSTATE:\t\t\tTX\n",
       "\t\tZIP:\t\t\t75039-2298\n",
       "\t\tBUSINESS PHONE:\t\t9729406000\n",
       "\n",
       "\tMAIL ADDRESS:\t\n",
       "\t\tSTREET 1:\t\t5959 LAS COLINAS BLVD\n",
       "\t\tCITY:\t\t\tIRVING\n",
       "\t\tSTATE:\t\t\tTX\n",
       "\t\tZIP:\t\t\t75039-2298\n",
       "\n",
       "\tFORMER COMPANY:\t\n",
       "\t\tFORMER CONFORMED NAME:\tEXXON CORP\n",
       "\t\tDATE OF NAME CHANGE:\t19920703\n",
       "\n",
       "\tFORMER COMPANY:\t\n",
       "\t\tFORMER CONFORMED NAME:\tSTANDARD OIL CO OF NEW JERSEY\n",
       "\t\tDATE OF NAME CHANGE:\t19721123\n",
       "</acceptance-datetime></sec-header>"
      ]
     },
     "execution_count": 92,
     "metadata": {},
     "output_type": "execute_result"
    }
   ],
   "source": [
    "# find and print out the document header\n",
    "header = soup.find('sec-header')\n",
    "header"
   ]
  },
  {
   "cell_type": "code",
   "execution_count": 96,
   "metadata": {},
   "outputs": [
    {
     "name": "stdout",
     "output_type": "stream",
     "text": [
      "No. Documents: 137\n"
     ]
    }
   ],
   "source": [
    "doc_soup = soup.find_all('document')\n",
    "print(\"No. Documents:\", len(doc_soup))"
   ]
  },
  {
   "cell_type": "code",
   "execution_count": 95,
   "metadata": {},
   "outputs": [
    {
     "name": "stdout",
     "output_type": "stream",
     "text": [
      "Found 10-K Document:\n",
      "10-K\n",
      "xom10k2019.htm\n"
     ]
    }
   ],
   "source": [
    "doc = {}\n",
    "\n",
    "for d in doc_soup:\n",
    "       \n",
    "    # extract some metadata from each document\n",
    "    doc_type = d.type.find(text=True, recursive=False).strip()\n",
    "    doc_filename = d.filename.find(text=True, recursive=False).strip()\n",
    "    doc_extension = doc_filename.split(\".\")[1]\n",
    "    \n",
    "    if doc_type == \"10-K\":\n",
    "        \n",
    "        print(\"Found 10-K Document:\")\n",
    "        \n",
    "        # extract the raw html and text\n",
    "        doc_html = d #.extract()\n",
    "        doc_text = d.find('text') #.extract()\n",
    "\n",
    "        # store some metadata about the document\n",
    "        doc['id'] = doc_type\n",
    "        doc['filename'] = doc_filename\n",
    "        doc['html'] = doc_html\n",
    "        doc['text'] = doc_text\n",
    "        \n",
    "        print(doc['id'])\n",
    "        print(doc['filename'])"
   ]
  },
  {
   "cell_type": "code",
   "execution_count": 100,
   "metadata": {},
   "outputs": [],
   "source": [
    "# find all the page breaks\n",
    "page_breaks = doc['text'].find_all('hr')\n",
    "\n",
    "# convert all thematic breaks to a string so it can be used for parsing\n",
    "page_breaks = [str(pb) for pb in page_breaks]\n",
    "\n",
    "# prep the document text for splitting, this means converting it to a string.\n",
    "doc_string = str(doc['text'])\n",
    "\n",
    "# handle the case where there are thematic breaks.\n",
    "if len(page_breaks) > 0:\n",
    "\n",
    "    # define the regex delimiter pattern, this would just be all of our thematic breaks.\n",
    "    delimiter = '|'.join(map(re.escape, page_breaks))\n",
    "\n",
    "    # split the document along each thematic break.\n",
    "    split_string = re.split(delimiter, doc_string)\n",
    "\n",
    "    # store the document itself\n",
    "    doc['pages'] = split_string\n",
    "\n",
    "# handle the case where there are no thematic breaks.\n",
    "elif len(page_breaks) == 0:\n",
    "\n",
    "    # handles so it will display correctly.\n",
    "    split_string = page_breaks\n",
    "\n",
    "    # store the document as is, since there are no thematic breaks. In other words, no splitting.\n",
    "    doc['pages'] = [doc_string]"
   ]
  },
  {
   "cell_type": "code",
   "execution_count": 102,
   "metadata": {},
   "outputs": [
    {
     "name": "stdout",
     "output_type": "stream",
     "text": [
      "No. Pages: 131\n"
     ]
    }
   ],
   "source": [
    "print(\"No. Pages:\",len(doc['pages']))"
   ]
  },
  {
   "cell_type": "code",
   "execution_count": 139,
   "metadata": {},
   "outputs": [
    {
     "data": {
      "text/html": [
       "<div><p style=\"margin-top: 0; line-height: 0.70pt; margin-bottom: 0; text-align: left\"><span style=\"font-family: Calibri; font-size: 12.00pt\"> </span></p></div><div><p style=\"margin-top: 0; margin-bottom: 0; text-align: center\"><span style=\"font-family: 'Times New Roman', 'serif'; font-weight: bold; font-size: 12.00pt\">PART I</span></p><p style=\"margin-top: 0; margin-bottom: 0; margin-left: 0.44in; text-indent: -0.44in; text-align: justify\"><span style=\"font-family: 'Times New Roman', 'serif'; font-weight: bold; font-size: 11.00pt; text-transform: uppercase\">ITEM 1. </span><span style=\"display: inline-block; width: 0.25in;\"></span><span style=\"font-family: 'Times New Roman', 'serif'; font-weight: bold; font-size: 11.00pt; text-transform: uppercase\">BUSINESS </span></p><p style=\"margin-top: 4.50pt; margin-bottom: 0; text-align: justify\"><span style=\"font-family: 'Times New Roman', 'serif'; font-size: 10.00pt\">Exxon Mobil Corporation was incorporated in the State of New Jersey in 1882. Divisions and affiliated companies of ExxonMobil operate or market products in the United States and most other countries of the world. Their principal business involves exploration for, and production of, crude oil and natural gas and manufacture, trade, transport and sale of crude oil, natural gas, petroleum products, petrochemicals and a wide variety of specialty products. Affiliates of ExxonMobil conduct extensive research programs in support of these businesses. </span></p><p style=\"margin-top: 4.50pt; margin-bottom: 0; text-align: justify\"><span style=\"font-family: 'Times New Roman', 'serif'; font-size: 10.00pt\">Exxon Mobil Corporation has several divisions and hundreds of affiliates, many with names that include </span><span style=\"font-family: 'Times New Roman', 'serif'; font-style: italic; font-size: 10.00pt\">ExxonMobil</span><span style=\"font-family: 'Times New Roman', 'serif'; font-size: 10.00pt\">, </span><span style=\"font-family: 'Times New Roman', 'serif'; font-style: italic; font-size: 10.00pt\">Exxon</span><span style=\"font-family: 'Times New Roman', 'serif'; font-size: 10.00pt\">, </span><span style=\"font-family: 'Times New Roman', 'serif'; font-style: italic; font-size: 10.00pt\">Esso, Mobil </span><span style=\"font-family: 'Times New Roman', 'serif'; font-size: 10.00pt\">or </span><span style=\"font-family: 'Times New Roman', 'serif'; font-style: italic; font-size: 10.00pt\">XTO</span><span style=\"font-family: 'Times New Roman', 'serif'; font-size: 10.00pt\">. For convenience and simplicity, in this report the terms </span><span style=\"font-family: 'Times New Roman', 'serif'; font-style: italic; font-size: 10.00pt\">ExxonMobil, Exxon, Esso, Mobil</span><span style=\"font-family: 'Times New Roman', 'serif'; font-size: 10.00pt\"> and </span><span style=\"font-family: 'Times New Roman', 'serif'; font-style: italic; font-size: 10.00pt\">XTO</span><span style=\"font-family: 'Times New Roman', 'serif'; font-size: 10.00pt\">, as well as terms like </span><span style=\"font-family: 'Times New Roman', 'serif'; font-style: italic; font-size: 10.00pt\">Corporation</span><span style=\"font-family: 'Times New Roman', 'serif'; font-size: 10.00pt\">, </span><span style=\"font-family: 'Times New Roman', 'serif'; font-style: italic; font-size: 10.00pt\">Company</span><span style=\"font-family: 'Times New Roman', 'serif'; font-size: 10.00pt\">, </span><span style=\"font-family: 'Times New Roman', 'serif'; font-style: italic; font-size: 10.00pt\">our</span><span style=\"font-family: 'Times New Roman', 'serif'; font-size: 10.00pt\">, </span><span style=\"font-family: 'Times New Roman', 'serif'; font-style: italic; font-size: 10.00pt\">we</span><span style=\"font-family: 'Times New Roman', 'serif'; font-size: 10.00pt\"> and </span><span style=\"font-family: 'Times New Roman', 'serif'; font-style: italic; font-size: 10.00pt\">its</span><span style=\"font-family: 'Times New Roman', 'serif'; font-size: 10.00pt\">, are sometimes used as abbreviated references to specific affiliates or groups of affiliates. The precise meaning depends on the context in question. </span></p><p style=\"margin-top: 4.50pt; margin-bottom: 0; text-align: justify\"><span style=\"font-family: 'Times New Roman', 'serif'; font-size: 10.00pt\">The energy and petrochemical industries are highly competitive. There is competition within the industries and also with other industries in supplying the energy, fuel and chemical needs of both industrial and individual consumers. The Corporation competes with other firms in the sale or purchase of needed goods and services in many national and international markets and employs all methods of competition which are lawful and appropriate for such purposes. </span></p><p style=\"margin-top: 4.50pt; margin-bottom: 0; text-align: justify\"><span style=\"font-family: 'Times New Roman', 'serif'; font-size: 10.00pt\">Operating data and industry segment information for the Corporation are contained in the Financial Section of this report under the following: “Quarterly Information”, “Note 18: Disclosures about Segments and Related Information” and “Operating Information”. Information on oil and gas reserves is contained in the “Oil and Gas Reserves” part of the “Supplemental Information on Oil and Gas Exploration and Production Activities” portion of the Financial Section of this report.</span></p><p style=\"margin-top: 4.50pt; margin-bottom: 0; text-align: justify\"><span style=\"font-family: 'Times New Roman', 'serif'; font-size: 10.00pt\">ExxonMobil has a long-standing commitment to the development of proprietary technology. We have a wide array of research programs designed to meet the needs identified in each of our business segments. ExxonMobil held over 13 thousand active patents worldwide at the end of 2019. For technology licensed to third parties, revenues totaled approximately $79 million in 2019. Although technology is an important contributor to the overall operations and results of our Company, the profitability of each business segment is not dependent on any individual patent, trade secret, trademark, license, franchise or concession.</span></p><p style=\"margin-top: 4.50pt; margin-bottom: 0; text-align: justify\"><span style=\"font-family: 'Times New Roman', 'serif'; font-size: 10.00pt\">The number of regular employees was 74.9 thousand, 71.0 thousand, and 69.6 thousand at years ended 2019, 2018, and 2017, respectively. Regular employees are defined as active executive, management, professional, technical and wage employees who work full time or part time for the Corporation and are covered by the Corporation’s benefit plans and programs.</span></p><p style=\"margin-top: 4.50pt; margin-bottom: 0; text-align: justify\"><span style=\"font-family: 'Times New Roman', 'serif'; font-size: 10.00pt\">Throughout ExxonMobil’s businesses, new and ongoing measures are taken to prevent and minimize the impact of our operations on air, water and ground. These include a significant investment in refining infrastructure and technology to manufacture clean fuels, as well as projects to monitor and reduce nitrogen oxide, sulfur oxide and greenhouse gas emissions, and expenditures for asset retirement obligations. Using definitions and guidelines established by the American Petroleum Institute, ExxonMobil’s 2019 worldwide environmental expenditures for all such preventative and remediation steps, including ExxonMobil’s share of equity company expenditures, were $5.2 billion, of which $4.0 billion were included in expenses with the remainder in capital expenditures. The total cost for such activities is expected to increase to approximately $5.9 billion in 2020 and 2021. Capital expenditures are expected to account for approximately 35 percent of the total. </span></p><p style=\"margin-top: 4.50pt; margin-bottom: 0; text-align: justify\"><span style=\"font-family: 'Times New Roman', 'serif'; font-size: 10.00pt\">Information concerning the source and availability of raw materials used in the Corporation’s business, the extent of seasonality in the business, the possibility of renegotiation of profits or termination of contracts at the election of governments and risks attendant to foreign operations may be found in “Item 1A. Risk Factors” and “Item 2. Properties” in this report. </span></p><p style=\"margin-top: 4.50pt; margin-bottom: 0; text-align: justify\"><span style=\"font-family: 'Times New Roman', 'serif'; font-size: 10.00pt\">ExxonMobil maintains a website at exxonmobil.com. Our annual report on Form 10-K, quarterly reports on Form 10-Q, current reports on Form 8-K and any amendments to those reports filed or furnished pursuant to Section 13(a) of the Securities Exchange Act of 1934 are made available through our website as soon as reasonably practical after we electronically file or furnish the reports to the Securities and Exchange Commission (SEC). Also available on the Corporation’s website are the Company’s Corporate Governance Guidelines, Code of Ethics and Business Conduct, and additional policies as well as the charters of the audit, compensation, nominating, and other committees of the Board of Directors. Information on our website is not incorporated into this report.</span></p><p style=\"margin-top: 4.50pt; margin-bottom: 0; text-align: justify\"><span style=\"font-family: 'Times New Roman', 'serif'; font-size: 10.00pt\">The SEC maintains an internet site (http://www.sec.gov) that contains reports, proxy and information statements, and other information regarding issuers that file electronically with the SEC.</span></p></div><div><p style=\"margin-top: 0; line-height: 115.00%; margin-bottom: 10.00pt; text-align: center\"><span style=\"font-family: 'Times New Roman', 'serif'; font-size: 10.00pt\">1<br/></span></p></div>"
      ],
      "text/plain": [
       "<IPython.core.display.HTML object>"
      ]
     },
     "metadata": {},
     "output_type": "display_data"
    }
   ],
   "source": [
    "page_no = 1\n",
    "\n",
    "display(HTML(doc['pages'][page_no + 1]))"
   ]
  }
 ],
 "metadata": {
  "kernelspec": {
   "display_name": "Python 3",
   "language": "python",
   "name": "python3"
  },
  "language_info": {
   "codemirror_mode": {
    "name": "ipython",
    "version": 3
   },
   "file_extension": ".py",
   "mimetype": "text/x-python",
   "name": "python",
   "nbconvert_exporter": "python",
   "pygments_lexer": "ipython3",
   "version": "3.6.7"
  }
 },
 "nbformat": 4,
 "nbformat_minor": 2
}
