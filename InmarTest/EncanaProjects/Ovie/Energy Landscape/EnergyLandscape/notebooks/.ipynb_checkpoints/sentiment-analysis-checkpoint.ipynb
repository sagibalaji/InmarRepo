{
 "cells": [
  {
   "cell_type": "markdown",
   "metadata": {
    "slideshow": {
     "slide_type": "slide"
    }
   },
   "source": [
    "# ELM Proof of Concept #1 : Sentiment Analysis\n",
    "\n",
    "* September 20th, 2018\n",
    "* Ryan Kazmerik, Data Scientist\n",
    "* Enterprise Data Science, Encana\n",
    "\n",
    "## Hypothesis\n",
    "There is a correlation between the sentiment of a news article and the probabilistic outcome of the related event. That is, we can use the polarity of an article headline as an indication of the emergence or divergence of an event or idea.\n",
    "\n",
    "We will test this hypothesis using 3 popular sentiment analysis libraries, specializing in business texts, social texts and financial texts.\n",
    "\n",
    "### Research\n",
    "**1. NLTK Vader**\n",
    "* The most used python sentiment analysis library\n",
    "* Valence-based approach, rates word as positive/negative including intensity\n",
    "    - ex. 'Tragedy' = negative, -3.4\n",
    "    - ex. 'Revitalized' = positive, +2.7\n",
    "* Crowd sourced word ratings from [Amazon Mechanical Turk](https://www.mturk.com/)\n",
    "* https://www.nltk.org/_modules/nltk/sentiment/vader.html\n",
    "<br/><br/>\n",
    "\n",
    "**2. Harvard IV-4**\n",
    "* Developing using grants from the USA National Science Foundation\n",
    "* Polarity based approach, rates words within a 6-class categorization\n",
    "    - Positive, Negative\n",
    "    - Strong, Weak\n",
    "    - Active, Passive\n",
    "* Hand-curated by linguistics researchers\n",
    "* http://www.wjh.harvard.edu/~inquirer/\n",
    "<br/><br/>\n",
    "\n",
    "**3. Loughran McDonald**\n",
    "* Developed at the University of Notre Dame\n",
    "* Polarity based approach, rates words within a 6-class categorization\n",
    "    - Positive, Negative\n",
    "    - Uncertainty\n",
    "    - Litigious\n",
    "    - Modal\n",
    "    - Constraining\n",
    "* \"A growing literature finds relations between stock price reactions and the sentiment of information releases\" \n",
    "* https://sraf.nd.edu/textual-analysis/resources/#Master%20Dictionary"
   ]
  },
  {
   "cell_type": "markdown",
   "metadata": {
    "slideshow": {
     "slide_type": "subslide"
    }
   },
   "source": [
    "## Experiments\n",
    "\n",
    "Training dataset - news article headlines from 40 popular news sources."
   ]
  },
  {
   "cell_type": "code",
   "execution_count": 439,
   "metadata": {
    "slideshow": {
     "slide_type": "slide"
    }
   },
   "outputs": [
    {
     "name": "stdout",
     "output_type": "stream",
     "text": [
      "Article sample: \n",
      "[\n",
      "  {\n",
      "    \"source\": {\n",
      "      \"id\": \"reuters\",\n",
      "      \"name\": \"Reuters\"\n",
      "    },\n",
      "    \"author\": \"Amanda Cooper\",\n",
      "    \"title\": \"Now you see it, now you don't: oil surplus vanishes ahead of Iran deadline\",\n",
      "    \"description\": \"An overhang of homeless crude in the Atlantic Basin has halved in recent weeks, suggesting oil traders are bracing for a further supply loss from Iran due to U.S. sanctions and a new rally in prices.\",\n",
      "    \"url\": \"https://www.reuters.com/article/us-oil-markets-analysis/now-you-see-it-now-you-dont-oil-surplus-vanishes-ahead-of-iran-deadline-idUSKCN1LF1O2\",\n",
      "    \"urlToImage\": \"https://s4.reutersmedia.net/resources/r/?m=02&d=20180830&t=2&i=1298966743&w=1200&r=LYNXNPEE7T0XR\",\n",
      "    \"publishedAt\": \"2018-08-30T13:50:34Z\",\n",
      "    \"content\": \"LONDON (Reuters) - An overhang of homeless crude in the Atlantic Basin has halved in recent weeks, suggesting oil traders are bracing for a further supply loss from Iran due to U.S. sanctions and a new rally in prices. Iran\\u2019s oil exports are already dropping \\u2026 [+4391 chars]\"\n",
      "  }\n",
      "]\n"
     ]
    }
   ],
   "source": [
    "import warnings\n",
    "warnings.filterwarnings('ignore')\n",
    "from newsapi import NewsApiClient\n",
    "import json\n",
    "\n",
    "newsapi = NewsApiClient(api_key='0149c3b5da6a4b00b0dbee00c4578e25')\n",
    "\n",
    "outlets = {\n",
    "    'business':'bloomberg,business-insider,fortune,msnbc,the-wall-street-journal',\n",
    "    'financial':'cnbc,financial-post,financial-times,reuters,the-economist',\n",
    "    'google':'google-news,google-news-au,google-news-ca,google-news-uk',\n",
    "    'world':'al-jazeera-english,bbc-news,the-guardian-uk',\n",
    "    'paper':'the-globe-and-mail,the-new-york-times,the-washington-post',\n",
    "    'opinion':'breitbart-news,the-huffington-post,independent,national-review,vice-news',\n",
    "    'network':'abc-news,cbs-news,cnn,fox-news,nbc-news,usa-today',\n",
    "    'other':'associated-press,metro,newsweek,politico,the-washington-times',\n",
    "    'tech':'engadget,hacker-news,mashable,techcrunch,the-verge,wired'\n",
    "}\n",
    "\n",
    "print('Article sample: ')\n",
    "\n",
    "data = newsapi.get_everything(\n",
    "    q='oil price sanctions',\n",
    "    sources='reuters',\n",
    "    language='en',\n",
    "    sort_by='relevancy',\n",
    "    page=1,\n",
    "    page_size=1)\n",
    "\n",
    "print(json.dumps(data['articles'], indent=2))"
   ]
  },
  {
   "cell_type": "markdown",
   "metadata": {
    "slideshow": {
     "slide_type": "slide"
    }
   },
   "source": [
    "### Experiment 1: Sample Headline\n",
    "\n",
    "Let's load up the all 3 sentiment dictionaries, and perform sentiment analysis on some sample text: <br/>"
   ]
  },
  {
   "cell_type": "code",
   "execution_count": 445,
   "metadata": {},
   "outputs": [
    {
     "name": "stdout",
     "output_type": "stream",
     "text": [
      "NLTK {'neg': 0.0, 'neu': 0.774, 'pos': 0.226, 'compound': 0.566}\n",
      "HARV {'Positive': 0, 'Negative': 1, 'Polarity': -0.9999990000010001, 'Subjectivity': 0.09999999000000101}\n",
      "L&M {'Positive': 0, 'Negative': 1, 'Polarity': -0.9999990000010001, 'Subjectivity': 0.09999999000000101}\n"
     ]
    }
   ],
   "source": [
    "from nltk.sentiment.vader import SentimentIntensityAnalyzer as SIA\n",
    "import pysentiment as PS\n",
    "\n",
    "NLTK = SIA()\n",
    "HARV = PS.HIV4()\n",
    "LM = PS.LM()\n",
    "\n",
    "#text = \"destruction\"\n",
    "#text = \"oil prices rose\"\n",
    "#text = \"oil prices fell\"\n",
    "#text = \"increased\"\n",
    "#text = \"increased to threatening\"\n",
    "text = \"The energy market was slow to recover this weekend, but analyst speculate the long-term outcome is not dreadful\"\n",
    "\n",
    "nltk = NLTK.polarity_scores(text)\n",
    "\n",
    "keys = HARV.tokenize(text)\n",
    "harv_polarity = HARV.get_score(keys)\n",
    "lm_polarity = LM.get_score(keys)\n",
    "\n",
    "print(\"NLTK\", nltk)\n",
    "print(\"HARV\", harv_polarity)\n",
    "print(\"L&M\", lm_polarity)"
   ]
  },
  {
   "cell_type": "markdown",
   "metadata": {},
   "source": [
    "### Experiment 2 : Iranian Sanctions\n",
    "\n",
    "We've already inserted ~8,000 articles in ElasticSearch, so let's pull out all the articles that mention the words **Iran** and **Oil** then run the NLTK analyzer on all the articles containing the articles about Iranian sanctions:"
   ]
  },
  {
   "cell_type": "code",
   "execution_count": 446,
   "metadata": {},
   "outputs": [
    {
     "name": "stdout",
     "output_type": "stream",
     "text": [
      "NTLK SENTIMENT CLASSIFIER\n",
      "Topic: Iranian sanctions\n",
      "- Articles classified: 135\n",
      "- Positive sentiment: 37\n",
      "- Neutral sentiment: 27\n",
      "- Negative sentiment: 71\n"
     ]
    }
   ],
   "source": [
    "from elasticsearch import Elasticsearch\n",
    "es = Elasticsearch()\n",
    "\n",
    "docs = es.search(\n",
    "    index='news', \n",
    "    doc_type='article',\n",
    "    q='description:\"Iran\" AND oil',\n",
    "    default_operator='AND',\n",
    "    filter_path=['hits.hits'],\n",
    "    _source_include='description,title',\n",
    "    sort='_id',\n",
    "    size=1000\n",
    ")\n",
    "t1_results = []\n",
    "\n",
    "for i,d in enumerate(docs['hits']['hits']):\n",
    "    desc = (d[\"_source\"][\"description\"])\n",
    "    title = (d[\"_source\"][\"title\"])\n",
    "    \n",
    "    nltk_polarity = NLTK.polarity_scores(desc)['compound']\n",
    "\n",
    "    if(nltk_polarity > 0.2):\n",
    "        nltk_sentiment = 'Positive'\n",
    "    elif (nltk_polarity < -0.2):\n",
    "        nltk_sentiment =  'Negative'\n",
    "    else:\n",
    "        nltk_sentiment = 'Neutral'\n",
    "    \n",
    "    t1_results.insert(i, nltk_sentiment)\n",
    "    \n",
    "print(\"NTLK SENTIMENT CLASSIFIER\")\n",
    "print(\"Topic: Iranian sanctions\")\n",
    "print(\"- Articles classified:\",len(t1_results))\n",
    "print(\"- Positive sentiment:\",t1_results.count(\"Positive\"))\n",
    "print(\"- Neutral sentiment:\",t1_results.count(\"Neutral\"))\n",
    "print(\"- Negative sentiment:\",t1_results.count(\"Negative\"))\n"
   ]
  },
  {
   "cell_type": "markdown",
   "metadata": {},
   "source": [
    "### Experiment 3: Chinese Tariffs\n",
    "\n",
    "Let's load in another topic and perform sentiment analysis on articles related to the new U.S. **tariffs** on **China**"
   ]
  },
  {
   "cell_type": "code",
   "execution_count": 447,
   "metadata": {},
   "outputs": [
    {
     "name": "stdout",
     "output_type": "stream",
     "text": [
      "NTLK SENTIMENT CLASSIFIER\n",
      "Topic: U.S. tariffs on China\n",
      "- Articles classified: 49\n",
      "- Positive sentiment: 14\n",
      "- Neutral sentiment: 8\n",
      "- Negative sentiment: 27\n"
     ]
    }
   ],
   "source": [
    "docs = es.search(\n",
    "    index='news', \n",
    "    doc_type='article',\n",
    "    q='description:\"China\" AND tariffs',\n",
    "    default_operator='AND',\n",
    "    filter_path=['hits.hits'],\n",
    "    _source_include='description,title',\n",
    "    sort='_id',\n",
    "    size=1000\n",
    ")\n",
    "\n",
    "t2_results = []\n",
    "\n",
    "for i,d in enumerate(docs['hits']['hits']):\n",
    "    desc = (d[\"_source\"][\"description\"])\n",
    "    title = (d[\"_source\"][\"title\"])\n",
    "    \n",
    "    nltk_polarity = NLTK.polarity_scores(desc)['compound']\n",
    "\n",
    "    if(nltk_polarity > 0.2):\n",
    "        nltk_sentiment = 'Positive'\n",
    "    elif (nltk_polarity < -0.2):\n",
    "        nltk_sentiment =  'Negative'\n",
    "    else:\n",
    "        nltk_sentiment = 'Neutral'\n",
    "    \n",
    "    t2_results.insert(i, nltk_sentiment)\n",
    "    \n",
    "print(\"NTLK SENTIMENT CLASSIFIER\")\n",
    "print(\"Topic: U.S. tariffs on China\")\n",
    "print(\"- Articles classified:\",len(t2_results))\n",
    "print(\"- Positive sentiment:\",t2_results.count(\"Positive\"))\n",
    "print(\"- Neutral sentiment:\",t2_results.count(\"Neutral\"))\n",
    "print(\"- Negative sentiment:\",t2_results.count(\"Negative\"))"
   ]
  },
  {
   "cell_type": "markdown",
   "metadata": {},
   "source": [
    "### Experiment 4: Fracking\n",
    "Let's load in another topic and perform sentiment analysis on articles related to **Fracking**"
   ]
  },
  {
   "cell_type": "code",
   "execution_count": 448,
   "metadata": {},
   "outputs": [
    {
     "name": "stdout",
     "output_type": "stream",
     "text": [
      "NTLK SENTIMENT CLASSIFIER\n",
      "Topic: Fracking\n",
      "- Articles classified: 25\n",
      "- Positive sentiment: 5\n",
      "- Neutral sentiment: 7\n",
      "- Negative sentiment: 13\n"
     ]
    }
   ],
   "source": [
    "docs = es.search(\n",
    "    index='news', \n",
    "    doc_type='article',\n",
    "    q='\"Fracking\"',\n",
    "    default_operator='AND',\n",
    "    filter_path=['hits.hits'],\n",
    "    _source_include='description,title',\n",
    "    sort='_id',\n",
    "    size=1000\n",
    ")\n",
    "\n",
    "t3_results = []\n",
    "\n",
    "for i,d in enumerate(docs['hits']['hits']):\n",
    "    desc = (d[\"_source\"][\"description\"])\n",
    "    title = (d[\"_source\"][\"title\"])\n",
    "    \n",
    "    nltk_polarity = NLTK.polarity_scores(desc)['compound']\n",
    "\n",
    "    if(nltk_polarity > 0.2):\n",
    "        nltk_sentiment = 'Positive'\n",
    "    elif (nltk_polarity < -0.2):\n",
    "        nltk_sentiment =  'Negative'\n",
    "    else:\n",
    "        nltk_sentiment = 'Neutral'\n",
    "    \n",
    "    t3_results.insert(i, nltk_sentiment)\n",
    "    \n",
    "print(\"NTLK SENTIMENT CLASSIFIER\")\n",
    "print(\"Topic: Fracking\")\n",
    "print(\"- Articles classified:\",len(t3_results))\n",
    "print(\"- Positive sentiment:\",t3_results.count(\"Positive\"))\n",
    "print(\"- Neutral sentiment:\",t3_results.count(\"Neutral\"))\n",
    "print(\"- Negative sentiment:\",t3_results.count(\"Negative\"))"
   ]
  },
  {
   "cell_type": "markdown",
   "metadata": {
    "slideshow": {
     "slide_type": "subslide"
    }
   },
   "source": [
    "## Results\n"
   ]
  },
  {
   "cell_type": "code",
   "execution_count": 449,
   "metadata": {},
   "outputs": [
    {
     "data": {
      "text/html": [
       "<iframe id=\"igraph\" scrolling=\"no\" style=\"border:none;\" seamless=\"seamless\" src=\"https://plot.ly/~rkazmerik/348.embed\" height=\"525px\" width=\"100%\"></iframe>"
      ],
      "text/plain": [
       "<plotly.tools.PlotlyDisplay object>"
      ]
     },
     "execution_count": 449,
     "metadata": {},
     "output_type": "execute_result"
    }
   ],
   "source": [
    "import plotly\n",
    "plotly.tools.set_credentials_file(username='rkazmerik', api_key='t7I510x59j1dyIous4oz')\n",
    "\n",
    "import plotly.plotly as plt\n",
    "import plotly.graph_objs as go\n",
    "\n",
    "trace0 = go.Scatter(\n",
    "    x=[5,1,3],\n",
    "    y=[len(t1_results), len(t2_results), len(t3_results)],\n",
    "    text=['Iranian Sanctions', 'Chinese Tariffs', 'Fracking'],\n",
    "    mode='markers',\n",
    "    marker=dict(\n",
    "        color=['rgb(255,0,0)', 'rgb(255,150,0)','rgb(200,0,0)'],\n",
    "        opacity=[1,1,1],\n",
    "        size=[len(t1_results), len(t2_results), len(t3_results)],\n",
    "    )\n",
    ")\n",
    "\n",
    "layout = go.Layout(\n",
    "    title='Price Influencing Factors w/ Sentiment',\n",
    "    xaxis=dict(\n",
    "        title='Price Factor (1=low, 5=high)',\n",
    "        gridcolor='rgb(240,240,240)',\n",
    "        gridwidth=2,\n",
    "    ),\n",
    "    yaxis=dict(\n",
    "        title='No. Articles',\n",
    "        gridcolor='rgb(240,240,240)',\n",
    "        gridwidth=2,\n",
    "    )\n",
    ")\n",
    "\n",
    "fig = go.Figure(data=[trace0], layout=layout)\n",
    "py.iplot(fig, filename='bubblechart-color')"
   ]
  },
  {
   "cell_type": "markdown",
   "metadata": {},
   "source": [
    "Notes:\n",
    "* size of the bubbles indicates the popularity of the topic (the volume) \n",
    "<br/><br/>\n",
    "* colour of bubbles indicates the sentiment, green = positive, yellow = neutral, red = negative \n",
    "<br/><br/>\n",
    "* price factor would be pre-assigned for each topic \n",
    "<br/><br/>\n",
    "* could be interesting to track the movement of these bubbles over time"
   ]
  },
  {
   "cell_type": "markdown",
   "metadata": {},
   "source": [
    "## Observations\n",
    "\n",
    "### 1. Negative sentiment on fracking (52% negative to 20% positive)"
   ]
  },
  {
   "cell_type": "markdown",
   "metadata": {
    "slideshow": {
     "slide_type": "subslide"
    }
   },
   "source": [
    "Sample of the first 5 articles classified as negative:\n",
    "<pre>\n",
    "* Bethany McLean's new book takes a skeptical look at whether the business case for fracking is on firm ground.\n",
    "\n",
    "* Check for environmental impact meant to address consumer distrust of hydraulic fracturing\n",
    "\n",
    "* Lancashire, a hotbed of anti-fracking protests, among the authorities with exposure\n",
    "\n",
    "* The controversial gas and oil drilling method threatens to exacerbate a looming crisis over water.\n",
    "\n",
    "* Lancastrians protested against it, council rejected it, the health impacts are shocking, this government doesn’t care.\n",
    "</pre>\n",
    "Consistent with how these news sources would likely report on a subject like 'Fracking'\n",
    "<br/><br/>\n",
    "\n",
    "### 2. Majority of stories on fracking were U.K. (56% U.K. sources to 44%)\n",
    "\n",
    "* Number of U.S. to U.K news sources is 10 to 1.\n",
    "<br/><br/>\n",
    "* An example of why it could be beneficial to monitor international news sources\n",
    "<br/><br/>\n",
    "\n",
    "### 3. Oil price movement reporting: Reuters\n",
    "\n",
    "Sample of 3 article **titles** from Reuters:\n",
    "<pre>\n",
    "* Oil higher as U.S. sanctions on Iran raise supply concerns\n",
    "\n",
    "* Oil gains 1 percent on signs OPEC not prepared to boost output\n",
    "\n",
    "* Oil dips as Sino-U.S. trade tensions deepen, new tariffs due\n",
    "</pre>\n",
    "\n",
    "* Title format could be an exploitable reporting pattern.\n",
    "<br/><br/>\n",
    "* Reuters reports 18% of our News-API content, out of 40 sources.\n",
    "<br/><br/>\n",
    "\n",
    "### 4. Sentiment useful at macro not micro\n",
    "* Example of an article classified as positive\n",
    "<pre>\n",
    "Iran and four ex-Soviet nations, including Russia, agreed in principle on Sunday how to divide up the potentially huge oil and gas resources\n",
    " > Polarity = 0.769, Sentiment = Positive\n",
    "</pre>\n",
    "\n",
    "* Positive keywords: 'agreed', 'potentially huge'\n",
    "* Negative keywords: None\n",
    "\n",
    "Classified as positive, does not indiciate emergence of Iranian Sanctions. However, these errors are balanced by looking at the **aggregate**, in data science we call often these edge-case data points **outliers**."
   ]
  },
  {
   "cell_type": "markdown",
   "metadata": {},
   "source": [
    "## Conclusion\n",
    "\n",
    "*Hypothesis: There is a correlation between the sentiment of a news article and the probabilistic outcome of the related event. That is, we can use the polarity of an article headline as an indication of the emergence or divergence of an event or idea.*\n",
    "\n",
    "* There are factors including volume, time and sentiment that contribute to understanding the outcome of an event.\n",
    "<br/><br/>\n",
    "* This intel is low-resolution. That is, it provides the outline of an influencing factor, but does not colour in the detail.\n",
    "<br/><br/>\n",
    "* Further research could be conducted on medium to high resolution intelligence to develop a deeper understanding of the current energy landscape\n",
    "\n",
    "## Future Improvements:\n",
    "1. There are some articles that just list 'Missing' where the description should be, we should pre-filter those if we're going to use the description field for sentiment analysis.\n",
    "2. We could consider layering a custom dictionary on-top of NLTK Vader to provide a more detailed vocabulary. \n",
    "3. We should spot-check 20 or so articles and their sentiment to identify any problematic instances.\n",
    "4. We may even consider writting a custom sentiment analysis classifier using NLTK or SpaCy + Keras."
   ]
  }
 ],
 "metadata": {
  "kernelspec": {
   "display_name": "Python 3",
   "language": "python",
   "name": "python3"
  },
  "language_info": {
   "codemirror_mode": {
    "name": "ipython",
    "version": 3
   },
   "file_extension": ".py",
   "mimetype": "text/x-python",
   "name": "python",
   "nbconvert_exporter": "python",
   "pygments_lexer": "ipython3",
   "version": "3.6.6"
  }
 },
 "nbformat": 4,
 "nbformat_minor": 2
}
