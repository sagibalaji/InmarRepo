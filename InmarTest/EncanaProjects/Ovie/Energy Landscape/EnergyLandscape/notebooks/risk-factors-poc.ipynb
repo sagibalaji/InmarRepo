{
 "cells": [
  {
   "cell_type": "code",
   "execution_count": 1,
   "metadata": {},
   "outputs": [],
   "source": [
    "from bs4 import BeautifulSoup"
   ]
  },
  {
   "cell_type": "code",
   "execution_count": null,
   "metadata": {},
   "outputs": [],
   "source": [
    "XOM_10K_2019 = './data/0000034088-20-000016.txt' #https://www.sec.gov/ix?doc=/Archives/edgar/data/34088/000003408820000016/xom10k2019.htm\n",
    "XOM_10K_2018\n",
    "XOM_10K_2017\n",
    "\n",
    "with open(EOG_10K_2019,'rb') as f:\n",
    "    soup = BeautifulSoup(f.read(), 'lxml')"
   ]
  }
 ],
 "metadata": {
  "kernelspec": {
   "display_name": "Python 3",
   "language": "python",
   "name": "python3"
  },
  "language_info": {
   "codemirror_mode": {
    "name": "ipython",
    "version": 3
   },
   "file_extension": ".py",
   "mimetype": "text/x-python",
   "name": "python",
   "nbconvert_exporter": "python",
   "pygments_lexer": "ipython3",
   "version": "3.6.7"
  }
 },
 "nbformat": 4,
 "nbformat_minor": 2
}
