{
 "cells": [
  {
   "cell_type": "code",
   "execution_count": 80,
   "metadata": {},
   "outputs": [],
   "source": [
    "from bs4 import BeautifulSoup\n",
    "from IPython.core.display import display, HTML\n",
    "import re\n",
    "import sys\n",
    "\n",
    "# increase the recursion limit for these large documents\n",
    "sys.setrecursionlimit(10000)"
   ]
  },
  {
   "cell_type": "code",
   "execution_count": 81,
   "metadata": {},
   "outputs": [],
   "source": [
    "EOG_10K = './data/0000821189-20-000010.txt' #https://www.sec.gov/ix?doc=/Archives/edgar/data/821189/000082118920000010/a2019123110-k.htm\n",
    "MRO_10K = './data/0000101778-20-000023.txt' #https://www.sec.gov/ix?doc=/Archives/edgar/data/101778/000010177820000023/mro-20191231x10k2019.htm\n",
    "XOM_10K = './data/0000034088-20-000016.txt' #https://www.sec.gov/ix?doc=/Archives/edgar/data/34088/000003408820000016/xom10k2019.htm\n",
    "\n",
    "with open(EOG_10K,'rb') as f:\n",
    "    soup = BeautifulSoup(f.read(), 'lxml')"
   ]
  },
  {
   "cell_type": "code",
   "execution_count": 113,
   "metadata": {},
   "outputs": [],
   "source": [
    "spans = soup.findAll(\"span\", string=re.compile(\"RISK FACTORS\", re.IGNORECASE))"
   ]
  },
  {
   "cell_type": "code",
   "execution_count": 114,
   "metadata": {},
   "outputs": [
    {
     "name": "stdout",
     "output_type": "stream",
     "text": [
      "No. sections: 124\n"
     ]
    }
   ],
   "source": [
    "print(\"No. sections:\", len(spans))"
   ]
  },
  {
   "cell_type": "code",
   "execution_count": 117,
   "metadata": {},
   "outputs": [
    {
     "data": {
      "text/html": [
       "<span style=\"font-family:inherit;font-size:10pt;\">EOG's business strategy is to maximize the rate of return on investment of capital by controlling operating and capital costs and maximizing reserve recoveries.  Pursuant to this strategy, each prospective drilling location is evaluated by its estimated rate of return.  This strategy is intended to enhance the generation of cash flow and earnings from each unit of production on a cost-effective basis, allowing EOG to deliver long-term production growth while maintaining a strong balance sheet.  EOG is focused on cost-effective utilization of advanced technology associated with three-dimensional seismic and microseismic data, the development of reservoir simulation models, the use of improved drilling equipment, completion technologies for horizontal drilling and formation evaluation.  These advanced technologies are used, as appropriate, throughout EOG to reduce the risks and costs associated with all aspects of oil and gas exploration, development and exploitation.  EOG implements its strategy primarily by emphasizing the drilling of internally generated prospects in order to find and develop low-cost reserves.  Maintaining the lowest possible operating cost structure that is consistent with efficient, safe and environmentally responsible operations is also an important goal in the implementation of EOG's strategy. </span>"
      ],
      "text/plain": [
       "<IPython.core.display.HTML object>"
      ]
     },
     "metadata": {},
     "output_type": "display_data"
    }
   ],
   "source": [
    "section = spans[4]\n",
    "display(HTML(str(section)))"
   ]
  },
  {
   "cell_type": "code",
   "execution_count": null,
   "metadata": {},
   "outputs": [],
   "source": []
  }
 ],
 "metadata": {
  "kernelspec": {
   "display_name": "Python 3",
   "language": "python",
   "name": "python3"
  },
  "language_info": {
   "codemirror_mode": {
    "name": "ipython",
    "version": 3
   },
   "file_extension": ".py",
   "mimetype": "text/x-python",
   "name": "python",
   "nbconvert_exporter": "python",
   "pygments_lexer": "ipython3",
   "version": "3.6.7"
  }
 },
 "nbformat": 4,
 "nbformat_minor": 2
}
